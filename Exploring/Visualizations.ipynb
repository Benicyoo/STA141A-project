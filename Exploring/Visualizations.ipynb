{
 "cells": [
  {
   "cell_type": "code",
   "execution_count": null,
   "metadata": {},
   "outputs": [],
   "source": [
    "import pandas as pd\n",
    "import seaborn as sns\n",
    "import matplotlib.pyplot as plt\n",
    "\n",
    "reg_data = pd.read_csv(\"../filtereddatasets/merged_finalists_regular.csv\")\n",
    "reg_data.drop(['TEAM_ID','TEAM_NAME','SEASON'],axis=1, inplace=True)\n",
    "\n",
    "plt.figure(figsize=(20, 16))\n",
    "sns.pairplot(reg_data)\n",
    "plt.title('Pair Plot of Features')\n",
    "plt.show()\n",
    "\n",
    "\n",
    "correlation_matrix = reg_data.corr()\n",
    "plt.figure(figsize=(24, 20))\n",
    "sns.heatmap(correlation_matrix, annot=True, cmap='coolwarm', fmt=\".2f\")\n",
    "plt.title('Correlation Matrix Heatmap For basketball values')\n",
    "plt.show()\n"
   ]
  }
 ],
 "metadata": {
  "kernelspec": {
   "display_name": "base",
   "language": "python",
   "name": "python3"
  },
  "language_info": {
   "codemirror_mode": {
    "name": "ipython",
    "version": 3
   },
   "file_extension": ".py",
   "mimetype": "text/x-python",
   "name": "python",
   "nbconvert_exporter": "python",
   "pygments_lexer": "ipython3",
   "version": "3.12.7"
  }
 },
 "nbformat": 4,
 "nbformat_minor": 5
}
